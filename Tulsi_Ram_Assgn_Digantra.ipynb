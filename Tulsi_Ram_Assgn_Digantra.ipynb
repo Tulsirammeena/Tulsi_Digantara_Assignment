{
  "nbformat": 4,
  "nbformat_minor": 0,
  "metadata": {
    "colab": {
      "provenance": []
    },
    "kernelspec": {
      "name": "python3",
      "display_name": "Python 3"
    },
    "language_info": {
      "name": "python"
    }
  },
  "cells": [
    {
      "cell_type": "code",
      "execution_count": null,
      "metadata": {
        "id": "qlfueuedA_nb"
      },
      "outputs": [],
      "source": [
        "!pip install numba\n",
        "!pip install sgp4"
      ]
    },
    {
      "cell_type": "markdown",
      "source": [
        "Import Required Libraries"
      ],
      "metadata": {
        "id": "tZul5eu1Bnpd"
      }
    },
    {
      "cell_type": "code",
      "source": [
        "import numpy as np\n",
        "from sgp4.api import Satrec, WGS72\n",
        "from sgp4.api import jday\n",
        "import datetime\n",
        "import pyproj\n",
        "from shapely.geometry import Point, Polygon\n",
        "from numba import cuda\n",
        "import matplotlib.pyplot as plt\n",
        "import math"
      ],
      "metadata": {
        "id": "YMxlqG6bBQ4m"
      },
      "execution_count": null,
      "outputs": []
    },
    {
      "cell_type": "markdown",
      "source": [
        "Read TLE Data"
      ],
      "metadata": {
        "id": "NkPgDfnrBrQw"
      }
    },
    {
      "cell_type": "code",
      "source": [
        "def read_tle_file(file_path):\n",
        "    \"\"\"Read TLE data from the given file and return a list of tuples (name, line1, line2).\"\"\"\n",
        "    with open(file_path, 'r') as file:\n",
        "        lines = file.readlines()\n",
        "\n",
        "    satellites = []\n",
        "    for i in range(0, len(lines), 3):\n",
        "        name = lines[i].strip()  # Satellite name\n",
        "        line1 = lines[i + 1].strip()  # First TLE line\n",
        "        line2 = lines[i + 2].strip()  # Second TLE line\n",
        "        satellites.append((name, line1, line2))\n",
        "\n",
        "    return satellites\n"
      ],
      "metadata": {
        "id": "5DIvn62rBrxZ"
      },
      "execution_count": null,
      "outputs": []
    },
    {
      "cell_type": "markdown",
      "source": [
        "Convert TLE Epoch to Julian Date"
      ],
      "metadata": {
        "id": "kW_lYPVAB4rZ"
      }
    },
    {
      "cell_type": "code",
      "source": [
        "def tle_epoch_to_julian_date(epoch):\n",
        "    \"\"\"Convert TLE epoch to Julian Date.\"\"\"\n",
        "    year = int(epoch[:2])\n",
        "    if year < 57:  # TLE epoch year format\n",
        "        year += 2000\n",
        "    else:\n",
        "        year += 1900\n",
        "\n",
        "    day_of_year = int(epoch[2:5])  # Day of the year\n",
        "    fraction_of_day = float(epoch[5:])  # Fraction of the day\n",
        "\n",
        "    # Convert year and day_of_year to a date\n",
        "    date = datetime.datetime(year, 1, 1) + datetime.timedelta(days=day_of_year - 1)\n",
        "\n",
        "    # Julian Date conversion\n",
        "    julian_date = date.toordinal() + 1721424.5 + fraction_of_day\n",
        "\n",
        "    return julian_date\n",
        "\n",
        "def julian_date_to_datetime(jd):\n",
        "    \"\"\"Convert Julian Date to a datetime object.\"\"\"\n",
        "    jd = jd + 0.5\n",
        "    F, I = np.modf(jd)\n",
        "    I = int(I)\n",
        "\n",
        "    A = I\n",
        "    if I >= 2299161:\n",
        "        alpha = int((I - 1867216.25) / 36524.25)\n",
        "        A = I + 1 + alpha - int(alpha / 4)\n",
        "\n",
        "    B = A + 1524\n",
        "    C = int((B - 122.1) / 365.25)\n",
        "    D = int(365.25 * C)\n",
        "    E = int((B - D) / 30.6001)\n",
        "\n",
        "    day = B - D - int(30.6001 * E) + F\n",
        "    month = E - 1 if E < 14 else E - 13\n",
        "    year = C - 4716 if month > 2 else C - 4715\n",
        "\n",
        "    hours, minutes = divmod(day % 1 * 24, 1)\n",
        "    minutes, seconds = divmod(minutes * 60, 1)\n",
        "    seconds = round(seconds * 60, 2)\n",
        "\n",
        "    return datetime.datetime(int(year), int(month), int(day)) + datetime.timedelta(\n",
        "        hours=int(hours), minutes=int(minutes), seconds=seconds\n",
        "    )\n"
      ],
      "metadata": {
        "id": "AGejyp2LB8AO"
      },
      "execution_count": null,
      "outputs": []
    },
    {
      "cell_type": "markdown",
      "source": [
        "Get Satellite Positions"
      ],
      "metadata": {
        "id": "smDgAM7vCxkm"
      }
    },
    {
      "cell_type": "code",
      "source": [
        "def get_satellite_positions(n, satrec, jd, fr, interval_minutes, cnt):\n",
        "    \"\"\"Retrieve satellite positions and velocities from TLE epoch (Julian Date).\"\"\"\n",
        "    times = []\n",
        "    positions = []\n",
        "    velocities = []\n",
        "\n",
        "    current_time = jd  # Start from the TLE epoch (Julian Date)\n",
        "    end_time = jd + 1  # Process for one day (1 Julian day)\n",
        "\n",
        "    while current_time <= end_time:\n",
        "        try:\n",
        "            e, r, v = satrec.sgp4(current_time, fr)  # Get position and velocity\n",
        "\n",
        "            if e == 0:  # Success\n",
        "                times.append(current_time)\n",
        "                positions.append(r)\n",
        "                velocities.append(v)\n",
        "            else:\n",
        "                print(f\"{n} Error code {e} for JD {current_time}\")\n",
        "        except Exception as ex:\n",
        "            print(f\"Exception occurred for JD {current_time}: {ex}\")\n",
        "\n",
        "        # Increment current_time by the interval in fractional days\n",
        "        current_time += interval_minutes / 1440  # Convert minutes to fractional days\n",
        "\n",
        "    return times, positions, velocities\n"
      ],
      "metadata": {
        "id": "vP-3R15sDOgJ"
      },
      "execution_count": null,
      "outputs": []
    },
    {
      "cell_type": "markdown",
      "source": [
        "Read Filtered Positions from File"
      ],
      "metadata": {
        "id": "kTY8oDNWDUcL"
      }
    },
    {
      "cell_type": "code",
      "source": [
        "def read_filtered_positions(file_path):\n",
        "    \"\"\"Read the satellite positions from the file and return as a list of tuples (lon, lat, alt).\"\"\"\n",
        "    filtered_positions = []\n",
        "    with open(file_path, 'r') as file:\n",
        "        lines = file.readlines()\n",
        "\n",
        "    for line in lines:\n",
        "        _, _, lon, lat, alt = line.strip().split(',')\n",
        "        filtered_positions.append((float(lon), float(lat), float(alt)))\n",
        "\n",
        "    return filtered_positions\n"
      ],
      "metadata": {
        "id": "AqIypt3MDWJg"
      },
      "execution_count": null,
      "outputs": []
    },
    {
      "cell_type": "markdown",
      "source": [
        "CUDA Device Function for Point in Polygon"
      ],
      "metadata": {
        "id": "b0GW2ymwDiut"
      }
    },
    {
      "cell_type": "code",
      "source": [
        "def is_within_polygon(lon, lat, polygon):\n",
        "    \"\"\"Check if a point (lon, lat) is inside the polygon.\"\"\"\n",
        "    point = Point(lon, lat)\n",
        "    return polygon.contains(point)\n",
        "\n",
        "@cuda.jit(device=True)\n",
        "def point_in_polygon(x, y, polygon_x, polygon_y):\n",
        "    \"\"\"Determine if a point is inside a polygon using the ray-casting algorithm.\"\"\"\n",
        "    num_vertices = len(polygon_x)\n",
        "    odd_nodes = False\n",
        "\n",
        "    j = num_vertices - 1\n",
        "    for i in range(num_vertices):\n",
        "        if ((polygon_y[i] < y and polygon_y[j] >= y) or (polygon_y[j] < y and polygon_y[i] >= y)) and \\\n",
        "                (polygon_x[i] <= x or polygon_x[j] <= x):\n",
        "            if polygon_x[i] + (y - polygon_y[i]) / (polygon_y[j] - polygon_y[i]) * (polygon_x[j] - polygon_x[i]) < x:\n",
        "                odd_nodes = not odd_nodes\n",
        "        j = i\n",
        "\n",
        "    return odd_nodes\n"
      ],
      "metadata": {
        "id": "6s1hUaWNDmLQ"
      },
      "execution_count": null,
      "outputs": []
    },
    {
      "cell_type": "markdown",
      "source": [
        "CUDA Kernel for Filtering Positions"
      ],
      "metadata": {
        "id": "WKMFcgeqDuCt"
      }
    },
    {
      "cell_type": "code",
      "source": [
        "@cuda.jit\n",
        "def filter_positions_cuda(lons, lats, alts, polygon_x, polygon_y, filtered_lons, filtered_lats, filtered_alts, results_count):\n",
        "    idx = cuda.grid(1)\n",
        "    if idx < lons.size:\n",
        "        if point_in_polygon(lons[idx], lats[idx], polygon_x, polygon_y):\n",
        "            pos = cuda.atomic.add(results_count, 0, 1)\n",
        "            filtered_lons[pos] = lons[idx]\n",
        "            filtered_lats[pos] = lats[idx]\n",
        "            filtered_alts[pos] = alts[idx]\n",
        "\n",
        "\n",
        "def filter_satellite_positions_cuda(positions, polygon):\n",
        "    \"\"\"Filter positions to only include those within the polygon using CUDA.\"\"\"\n",
        "    lons = np.array([p[0] for p in positions], dtype=np.float32)\n",
        "    lats = np.array([p[1] for p in positions], dtype=np.float32)\n",
        "    alts = np.array([p[2] for p in positions], dtype=np.float32)\n",
        "\n",
        "    filtered_lons = cuda.device_array_like(lons)\n",
        "    filtered_lats = cuda.device_array_like(lats)\n",
        "    filtered_alts = cuda.device_array_like(alts)\n",
        "\n",
        "    results_count = cuda.to_device(np.zeros(1, dtype=np.int32))\n",
        "\n",
        "    # Extract polygon coordinates\n",
        "    polygon_x, polygon_y = polygon.exterior.xy\n",
        "    polygon_x = np.array(polygon_x, dtype=np.float32)\n",
        "    polygon_y = np.array(polygon_y, dtype=np.float32)\n",
        "\n",
        "    # Transfer the polygon coordinates to the GPU\n",
        "    polygon_x_device = cuda.to_device(polygon_x)\n",
        "    polygon_y_device = cuda.to_device(polygon_y)\n",
        "\n",
        "    threads_per_block = 256\n",
        "    blocks_per_grid = (lons.size + threads_per_block - 1) // threads_per_block\n",
        "\n",
        "    filter_positions_cuda[blocks_per_grid, threads_per_block](\n",
        "        lons, lats, alts, polygon_x_device, polygon_y_device, filtered_lons, filtered_lats, filtered_alts, results_count\n",
        "    )\n",
        "\n",
        "    filtered_lons = filtered_lons.copy_to_host()[:results_count.copy_to_host()[0]]\n",
        "    filtered_lats = filtered_lats.copy_to_host()[:results_count.copy_to_host()[0]]\n",
        "    filtered_alts = filtered_alts.copy_to_host()[:results_count.copy_to_host()[0]]\n",
        "\n",
        "    filtered_positions = [(filtered_lons[i], filtered_lats[i], filtered_alts[i]) for i in range(len(filtered_lons))]\n",
        "\n",
        "    return filtered_positions\n"
      ],
      "metadata": {
        "id": "9zJm-y5iDzLu"
      },
      "execution_count": null,
      "outputs": []
    },
    {
      "cell_type": "code",
      "source": [
        "def plot_polygon_and_positions(polygon, positions):\n",
        "    \"\"\"Plot the polygon and satellite positions.\"\"\"\n",
        "    x, y = polygon.exterior.xy\n",
        "    plt.plot(x, y, color='blue', label='Polygon')\n",
        "\n",
        "    lons, lats = zip(*[(lon, lat) for lon, lat, _ in positions])\n",
        "    plt.scatter(lons, lats, color='red', label='Satellite Positions')\n",
        "\n",
        "    plt.xlabel('Longitude')\n",
        "    plt.ylabel('Latitude')\n",
        "    plt.legend()\n",
        "    plt.show()\n",
        "\n",
        "def write_output(name, file_path, times, positions, velocities):\n",
        "    \"\"\"Write satellite positions and velocities to the specified file.\"\"\"\n",
        "    with open(file_path, 'a') as file:\n",
        "        for t, pos, vel in zip(times, positions, velocities):\n",
        "            # Convert Julian Date to datetime and format it\n",
        "            time_str = julian_date_to_datetime(t).strftime('%Y-%m-%d %H:%M:%S')\n",
        "            pos_str = ' '.join(f'{x:.4f}' for x in pos)\n",
        "            vel_str = ' '.join(f'{x:.4f}' for x in vel)\n",
        "            file.write(f'{name},{time_str}, {pos_str}, {vel_str}\\n')\n"
      ],
      "metadata": {
        "id": "TQ_eX4YbEFjp"
      },
      "execution_count": null,
      "outputs": []
    },
    {
      "cell_type": "markdown",
      "source": [
        "ECEF TO LLA"
      ],
      "metadata": {
        "id": "Cpo_MgmyEWyL"
      }
    },
    {
      "cell_type": "code",
      "source": [
        "import math\n",
        "\n",
        "@cuda.jit(device=True)\n",
        "def custom_sqrt(x):\n",
        "    return math.sqrt(x)\n",
        "\n",
        "@cuda.jit(device=True)\n",
        "def custom_atan2(y, x):\n",
        "    return math.atan2(y, x)\n",
        "\n",
        "@cuda.jit(device=True)\n",
        "def custom_cos(x):\n",
        "    return math.cos(x)\n",
        "\n",
        "@cuda.jit(device=True)\n",
        "def custom_sin(x):\n",
        "    return math.sin(x)\n",
        "\n",
        "@cuda.jit\n",
        "def ecef_to_lla_kernel(pos_x, pos_y, pos_z, lons, lats, alts):\n",
        "    idx = cuda.grid(1)\n",
        "    if idx < pos_x.size:\n",
        "        # WGS84 ellipsoid parameters\n",
        "        a = 6378137.0  # semi-major axis\n",
        "        f = 1 / 298.257223563  # flattening\n",
        "        e2 = 2 * f - f * f  # square of the first eccentricity\n",
        "\n",
        "        x = pos_x[idx]\n",
        "        y = pos_y[idx]\n",
        "        z = pos_z[idx]\n",
        "        p = custom_sqrt(x**2 + y**2)\n",
        "\n",
        "        # Initial guess of latitude\n",
        "        lat = custom_atan2(z, p * (1 - e2))\n",
        "        N = a / custom_sqrt(1 - e2 * custom_sin(lat)**2)\n",
        "        alt = p / custom_cos(lat) - N\n",
        "\n",
        "        # Iteratively improve latitude estimate\n",
        "        for _ in range(5):\n",
        "            lat_prev = lat\n",
        "            N = a / custom_sqrt(1 - e2 * custom_sin(lat)**2)\n",
        "            alt = p / custom_cos(lat) - N\n",
        "            lat = custom_atan2(z + e2 * N * custom_sin(lat), p)\n",
        "            if abs(lat - lat_prev) < 1e-12:  # Convergence criterion\n",
        "                break\n",
        "\n",
        "        lon = custom_atan2(y, x)\n",
        "        N = a / custom_sqrt(1 - e2 * custom_sin(lat)**2)\n",
        "        alt = p / custom_cos(lat) - N\n",
        "\n",
        "        # Convert radians to degrees\n",
        "        lons[idx] = lon * 180.0 / math.pi\n",
        "        lats[idx] = lat * 180.0 / math.pi\n",
        "        alts[idx] = alt"
      ],
      "metadata": {
        "id": "h7XXOIKXEiyb"
      },
      "execution_count": null,
      "outputs": []
    },
    {
      "cell_type": "code",
      "source": [
        "def write_output1_cuda(name, file_path, times, positions):\n",
        "    \"\"\"Write satellite positions to the specified file in lat, long, alt format using CUDA.\"\"\"\n",
        "\n",
        "    # Extract position components\n",
        "    pos_x = np.array([p[0] for p in positions], dtype=np.float32)\n",
        "    pos_y = np.array([p[1] for p in positions], dtype=np.float32)\n",
        "    pos_z = np.array([p[2] for p in positions], dtype=np.float32)\n",
        "\n",
        "    # Allocate arrays for the results\n",
        "    lons = np.zeros_like(pos_x, dtype=np.float32)\n",
        "    lats = np.zeros_like(pos_x, dtype=np.float32)\n",
        "    alts = np.zeros_like(pos_x, dtype=np.float32)\n",
        "\n",
        "    # Transfer data to the GPU\n",
        "    pos_x_device = cuda.to_device(pos_x)\n",
        "    pos_y_device = cuda.to_device(pos_y)\n",
        "    pos_z_device = cuda.to_device(pos_z)\n",
        "    lons_device = cuda.to_device(lons)\n",
        "    lats_device = cuda.to_device(lats)\n",
        "    alts_device = cuda.to_device(alts)\n",
        "\n",
        "    # Define CUDA grid and block size\n",
        "    threads_per_block = 256\n",
        "    blocks_per_grid = (pos_x.size + threads_per_block - 1) // threads_per_block\n",
        "\n",
        "    # Launch the kernel\n",
        "    ecef_to_lla_kernel[blocks_per_grid, threads_per_block](pos_x_device, pos_y_device, pos_z_device, lons_device, lats_device, alts_device)\n",
        "\n",
        "    # Copy the results back to the CPU\n",
        "    lons = lons_device.copy_to_host()\n",
        "    lats = lats_device.copy_to_host()\n",
        "    alts = alts_device.copy_to_host()\n",
        "\n",
        "    # Write the results to the file\n",
        "    with open(file_path, 'a') as file:\n",
        "        for i, t in zip(range(len(positions)), times):\n",
        "            time_str = julian_date_to_datetime(t).strftime('%Y-%m-%d %H:%M:%S')\n",
        "            file.write(f'{name},{time_str}, {lons[i]:.4f}, {lats[i]:.4f}, {alts[i]:.4f}\\n')\n",
        "    return lons, lats, alts\n"
      ],
      "metadata": {
        "id": "rwh27xbOEi8d"
      },
      "execution_count": null,
      "outputs": []
    },
    {
      "cell_type": "markdown",
      "source": [
        "Main Function"
      ],
      "metadata": {
        "id": "lKSr92wpFMLK"
      }
    },
    {
      "cell_type": "code",
      "source": [
        "def main():\n",
        "    tle_file = '/content/30sats.txt'  # Input TLE file\n",
        "    output_file = 'satellite_positions.txt'\n",
        "    output_file1 = 'satellite_positions_next.txt'  # Output file\n",
        "    interval_minutes = 1  # Time interval in minutes\n",
        "\n",
        "    filtered_output_file = 'filtered_satellite_positions.txt'\n",
        "\n",
        "    # Read TLE data\n",
        "    satellites = read_tle_file(tle_file)\n",
        "\n",
        "    # Process each satellite\n",
        "    for name, line1, line2 in satellites:\n",
        "        try:\n",
        "            # Create satellite record\n",
        "            satrec = Satrec.twoline2rv(line1, line2, WGS72)\n",
        "\n",
        "            # Extract epoch from line1 and convert to Julian Date\n",
        "            tle_epoch = line1[18:32]  # Epoch is found in columns 19-32 of line1\n",
        "            jd = tle_epoch_to_julian_date(tle_epoch)\n",
        "            fr = jd % 1  # Fractional day\n",
        "\n",
        "            times, positions, velocities = get_satellite_positions(name, satrec, jd, fr, interval_minutes, 0)\n",
        "\n",
        "            lons, lats, alts = write_output1_cuda(name, output_file1, times, positions)\n",
        "            print(f'Processed {name}')\n",
        "        except Exception as e:\n",
        "            print(f\"Failed to process satellite {name}: {e}\")\n",
        "    filtered_positions = read_filtered_positions(output_file1)\n",
        "\n",
        "    lat1, lon1 = 90.74973, 100.64459 # Top-left corner (latitude, longitude)\n",
        "    lat2, lon2 = -87.32309, -147.79778  # Bottom-right corner (latitude, longitude)\n",
        "    # Latitude: 16.66673, Longitude: 103.58196\n",
        "    # Latitude: 69.74973, Longitude: -120.64459\n",
        "    # Latitude: -21.09096, Longitude: -119.71009\n",
        "    # Latitude: -31.32309, Longitude: -147.79778\n",
        "    # Calculate the other two corners\n",
        "    coords = [\n",
        "        (lon1, lat1),  # Top-left\n",
        "        (lon2, lat1),  # Top-right\n",
        "        (lon2, lat2),  # Bottom-right\n",
        "        (lon1, lat2)   # Bottom-left\n",
        "    ]\n",
        "\n",
        "    # Create a polygon from the four corners\n",
        "    polygon = Polygon(coords)\n",
        "\n",
        "    print(f\"Polygon defined: {polygon}\")\n",
        "    plot_polygon_and_positions(polygon, filtered_positions)\n",
        "    # Filter positions based on whether they fall within the polygon\n",
        "    filtered_results = filter_satellite_positions_cuda(filtered_positions, polygon)\n",
        "\n",
        "    print(f\"Total positions within polygon: {len(filtered_results)}\")\n",
        "\n",
        "    # Write the filtered results to the output file\n",
        "    with open(filtered_output_file, 'w') as file:\n",
        "        for lon, lat, alt in filtered_results:\n",
        "            file.write(f'{lon:.4f}, {lat:.4f}, {alt:.4f}\\n')\n",
        "\n",
        "    print(f'Filtered results saved to {filtered_output_file}')\n",
        "\n",
        "if __name__ == '__main__':\n",
        "    main()\n"
      ],
      "metadata": {
        "id": "9Ax0CRBJFUM3"
      },
      "execution_count": null,
      "outputs": []
    }
  ]
}